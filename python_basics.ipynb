{
 "cells": [
  {
   "cell_type": "code",
   "execution_count": null,
   "metadata": {},
   "outputs": [],
   "source": [
    "print(\"hello\")"
   ]
  },
  {
   "cell_type": "code",
   "execution_count": 1,
   "metadata": {},
   "outputs": [],
   "source": [
    "import pandas as pd"
   ]
  },
  {
   "cell_type": "code",
   "execution_count": null,
   "metadata": {},
   "outputs": [],
   "source": [
    "x='hello world'\n",
    "print(\"The variable has the value:\", x)"
   ]
  },
  {
   "cell_type": "code",
   "execution_count": null,
   "metadata": {},
   "outputs": [],
   "source": [
    "x=3\n",
    "print(x)"
   ]
  },
  {
   "cell_type": "code",
   "execution_count": null,
   "metadata": {},
   "outputs": [],
   "source": [
    "t_string = 'Hello'\n",
    "print(type(t_string))\n",
    "compute_string= '400' + '4' + ' Error'\n",
    "print(compute_string)"
   ]
  },
  {
   "cell_type": "code",
   "execution_count": null,
   "metadata": {},
   "outputs": [],
   "source": [
    "t_nested_dict = [\n",
    "\n",
    "                    {\n",
    "                        \"state\": \"Florida\",\n",
    "                        \"shortname\":\"FL\",\n",
    "                        \"Info\": {\"governor\": \"Rick Scott\"},\n",
    "                        \"Counties\": [ \n",
    "                            {\"name\": \"Dade\", \"population\": 12345}, \n",
    "                            {\"name\": \"Broward\", \"population\": 40000},\n",
    "                            {\"name\": \"Palm Beach\", \"population\": 60000},\n",
    "                        ],\n",
    "                    },\n",
    "                    {\n",
    "                        \"state\": \"Ohio\",\n",
    "                        \"shortname\": \"OH\",\n",
    "                        \"info\": {\"governor\":\"John Kasich\"},\n",
    "                        \"counties\": [\n",
    "                            {\"name\": \"Summit\", \"population\": 1234}, \n",
    "                            {\"name\": \"Cuyahoga\", \"population\": 1337},\n",
    "                        ],\n",
    "                    },\n",
    "                ]\n",
    "print(t_nested_dict)"
   ]
  },
  {
   "cell_type": "code",
   "execution_count": 8,
   "metadata": {},
   "outputs": [],
   "source": [
    "nasdaq_top_companies = [\n",
    "    {\n",
    "        \"Ticker\": \"AAPL\",\n",
    "        \"Company\": \"Apple Inc.\",\n",
    "        \"Industry\": \"Technology\",\n",
    "        \"Market Cap\": \"Trillion Dollars\",\n",
    "        \"Share_Price\": 150.00,\n",
    "        \"Description\": \"Share price for Apple Inc. in September 2021\"\n",
    "    },\n",
    "    {\n",
    "        \"Ticker\": \"MSFT\",\n",
    "        \"Company\": \"Microsoft Corporation\",\n",
    "        \"Industry\": \"Technology\",\n",
    "        \"Market Cap\": \"Trillion Dollars\",\n",
    "        \"Share_Price\": 300.00,\n",
    "        \"Description\": \"Share price for Microsoft Corporation in September 2021\"\n",
    "    },\n",
    "    {\n",
    "        \"Ticker\": \"AMZN\",\n",
    "        \"Company\": \"Amazon.com Inc.\",\n",
    "        \"Industry\": \"E-commerce\",\n",
    "        \"Market Cap\": \"Trillion Dollars\",\n",
    "        \"Share_Price\": 3400.00,\n",
    "        \"Description\": \"Share price for Amazon.com Inc. in September 2021\"\n",
    "    },\n",
    "    {\n",
    "        \"Ticker\": \"GOOGL\",\n",
    "        \"Company\": \"Alphabet Inc. (Google)\",\n",
    "        \"Industry\": \"Technology\",\n",
    "        \"Market Cap\": \"Trillion Dollars\",\n",
    "        \"Share_Price\": 2700.00,\n",
    "        \"Description\": \"Share price for Alphabet Inc. in September 2021\"\n",
    "    },\n",
    "    {\n",
    "        \"Ticker\": \"FB\",\n",
    "        \"Company\": \"Meta Platforms, Inc. (Facebook)\",\n",
    "        \"Industry\": \"Social Media\",\n",
    "        \"Market Cap\": \"Trillion Dollars\",\n",
    "        \"Share_Price\": 330.00,\n",
    "        \"Description\": \"Share price for Meta Platforms, Inc. in September 2021\"\n",
    "    }\n",
    "]\n",
    "# Load dict to DataFrame\n",
    "df_nasdaq=pd.DataFrame(nasdaq_top_companies)"
   ]
  },
  {
   "cell_type": "code",
   "execution_count": null,
   "metadata": {},
   "outputs": [],
   "source": [
    "df_nasdaq"
   ]
  },
  {
   "cell_type": "code",
   "execution_count": 13,
   "metadata": {},
   "outputs": [],
   "source": [
    "import pandas as pd\n",
    "import os\n",
    "import glob"
   ]
  },
  {
   "cell_type": "code",
   "execution_count": null,
   "metadata": {},
   "outputs": [],
   "source": [
    "os.mkdir(r'./MARKET_DATA/')"
   ]
  },
  {
   "cell_type": "code",
   "execution_count": 16,
   "metadata": {},
   "outputs": [],
   "source": [
    "def CreateCsvFile(df, PrefixName: str):\n",
    "    '''\n",
    "    The function CreateCsvFile enables to create multiple csv files by tickers \n",
    "    from a dataframe and a prefix as the filename.\n",
    "    '''\n",
    "    for line, ticker in zip(df['Ticker'], df['Ticker']):\n",
    "        pathName = r'./MARKET_DATA/'+ str(PrefixName) +str(ticker)+'.csv'\n",
    "        df[df['Ticker']==line].to_csv(pathName, index=False)\n",
    "    return None"
   ]
  },
  {
   "cell_type": "code",
   "execution_count": null,
   "metadata": {},
   "outputs": [],
   "source": [
    "CreateCsvFile(df_nasdaq, 'NASDAQ_')\n",
    "CreateCsvFile(cac40_data, 'CAC40_')"
   ]
  },
  {
   "cell_type": "code",
   "execution_count": 18,
   "metadata": {},
   "outputs": [],
   "source": [
    "# Assign the folder to parse\n",
    "pathFolder = r'.\\MARKET_DATA'\n",
    "# Parse the folder\n",
    "walkFolder = [path[0] for path in os.walk (pathFolder)]\n",
    "# Initialize list\n",
    "listOfFile = []\n",
    "# Loop on the folder\n",
    "for folder in walkFolder:\n",
    "    # Assign folder path\n",
    "    folderName = os.path.basename(folder)\n",
    "    # Assign folder path joined to a file type searched\n",
    "    files = os.path.join(folder, 'NASDAQ_*.csv')\n",
    "    # Store the file path matching the file type searched\n",
    "    listOfFile = glob.glob(files)"
   ]
  }
 ],
 "metadata": {
  "kernelspec": {
   "display_name": "Python 3",
   "language": "python",
   "name": "python3"
  },
  "language_info": {
   "codemirror_mode": {
    "name": "ipython",
    "version": 3
   },
   "file_extension": ".py",
   "mimetype": "text/x-python",
   "name": "python",
   "nbconvert_exporter": "python",
   "pygments_lexer": "ipython3",
   "version": "3.12.6"
  }
 },
 "nbformat": 4,
 "nbformat_minor": 2
}
